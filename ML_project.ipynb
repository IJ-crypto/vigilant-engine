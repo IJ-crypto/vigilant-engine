{
 "cells": [
  {
   "cell_type": "code",
   "execution_count": 1,
   "id": "5a1232d6",
   "metadata": {},
   "outputs": [],
   "source": [
    "import numpy as np\n",
    "import pandas as pd\n",
    "import matplotlib.pyplot as plt"
   ]
  },
  {
   "cell_type": "code",
   "execution_count": 2,
   "id": "001992b9",
   "metadata": {},
   "outputs": [],
   "source": [
    "df=pd.read_csv('C:/pypy/merc.csv')"
   ]
  },
  {
   "cell_type": "code",
   "execution_count": 3,
   "id": "31969f64",
   "metadata": {
    "scrolled": true
   },
   "outputs": [
    {
     "data": {
      "text/html": [
       "<div>\n",
       "<style scoped>\n",
       "    .dataframe tbody tr th:only-of-type {\n",
       "        vertical-align: middle;\n",
       "    }\n",
       "\n",
       "    .dataframe tbody tr th {\n",
       "        vertical-align: top;\n",
       "    }\n",
       "\n",
       "    .dataframe thead th {\n",
       "        text-align: right;\n",
       "    }\n",
       "</style>\n",
       "<table border=\"1\" class=\"dataframe\">\n",
       "  <thead>\n",
       "    <tr style=\"text-align: right;\">\n",
       "      <th></th>\n",
       "      <th>model</th>\n",
       "      <th>year</th>\n",
       "      <th>price</th>\n",
       "      <th>transmission</th>\n",
       "      <th>mileage</th>\n",
       "      <th>fuelType</th>\n",
       "      <th>tax</th>\n",
       "      <th>mpg</th>\n",
       "      <th>engineSize</th>\n",
       "    </tr>\n",
       "  </thead>\n",
       "  <tbody>\n",
       "    <tr>\n",
       "      <th>0</th>\n",
       "      <td>SLK</td>\n",
       "      <td>2005</td>\n",
       "      <td>5200</td>\n",
       "      <td>Automatic</td>\n",
       "      <td>63000</td>\n",
       "      <td>Petrol</td>\n",
       "      <td>325</td>\n",
       "      <td>32.1</td>\n",
       "      <td>1.8</td>\n",
       "    </tr>\n",
       "    <tr>\n",
       "      <th>1</th>\n",
       "      <td>S Class</td>\n",
       "      <td>2017</td>\n",
       "      <td>34948</td>\n",
       "      <td>Automatic</td>\n",
       "      <td>27000</td>\n",
       "      <td>Hybrid</td>\n",
       "      <td>20</td>\n",
       "      <td>61.4</td>\n",
       "      <td>2.1</td>\n",
       "    </tr>\n",
       "    <tr>\n",
       "      <th>2</th>\n",
       "      <td>SL CLASS</td>\n",
       "      <td>2016</td>\n",
       "      <td>49948</td>\n",
       "      <td>Automatic</td>\n",
       "      <td>6200</td>\n",
       "      <td>Petrol</td>\n",
       "      <td>555</td>\n",
       "      <td>28.0</td>\n",
       "      <td>5.5</td>\n",
       "    </tr>\n",
       "    <tr>\n",
       "      <th>3</th>\n",
       "      <td>G Class</td>\n",
       "      <td>2016</td>\n",
       "      <td>61948</td>\n",
       "      <td>Automatic</td>\n",
       "      <td>16000</td>\n",
       "      <td>Petrol</td>\n",
       "      <td>325</td>\n",
       "      <td>30.4</td>\n",
       "      <td>4.0</td>\n",
       "    </tr>\n",
       "    <tr>\n",
       "      <th>4</th>\n",
       "      <td>G Class</td>\n",
       "      <td>2016</td>\n",
       "      <td>73948</td>\n",
       "      <td>Automatic</td>\n",
       "      <td>4000</td>\n",
       "      <td>Petrol</td>\n",
       "      <td>325</td>\n",
       "      <td>30.1</td>\n",
       "      <td>4.0</td>\n",
       "    </tr>\n",
       "  </tbody>\n",
       "</table>\n",
       "</div>"
      ],
      "text/plain": [
       "       model  year  price transmission  mileage fuelType  tax   mpg  \\\n",
       "0        SLK  2005   5200    Automatic    63000   Petrol  325  32.1   \n",
       "1    S Class  2017  34948    Automatic    27000   Hybrid   20  61.4   \n",
       "2   SL CLASS  2016  49948    Automatic     6200   Petrol  555  28.0   \n",
       "3    G Class  2016  61948    Automatic    16000   Petrol  325  30.4   \n",
       "4    G Class  2016  73948    Automatic     4000   Petrol  325  30.1   \n",
       "\n",
       "   engineSize  \n",
       "0         1.8  \n",
       "1         2.1  \n",
       "2         5.5  \n",
       "3         4.0  \n",
       "4         4.0  "
      ]
     },
     "execution_count": 3,
     "metadata": {},
     "output_type": "execute_result"
    }
   ],
   "source": [
    "df.head()"
   ]
  },
  {
   "cell_type": "code",
   "execution_count": 4,
   "id": "5dc87cdd",
   "metadata": {},
   "outputs": [
    {
     "data": {
      "text/html": [
       "<div>\n",
       "<style scoped>\n",
       "    .dataframe tbody tr th:only-of-type {\n",
       "        vertical-align: middle;\n",
       "    }\n",
       "\n",
       "    .dataframe tbody tr th {\n",
       "        vertical-align: top;\n",
       "    }\n",
       "\n",
       "    .dataframe thead th {\n",
       "        text-align: right;\n",
       "    }\n",
       "</style>\n",
       "<table border=\"1\" class=\"dataframe\">\n",
       "  <thead>\n",
       "    <tr style=\"text-align: right;\">\n",
       "      <th></th>\n",
       "      <th>year</th>\n",
       "      <th>price</th>\n",
       "      <th>mileage</th>\n",
       "      <th>tax</th>\n",
       "      <th>mpg</th>\n",
       "      <th>engineSize</th>\n",
       "    </tr>\n",
       "  </thead>\n",
       "  <tbody>\n",
       "    <tr>\n",
       "      <th>count</th>\n",
       "      <td>13119.000000</td>\n",
       "      <td>13119.000000</td>\n",
       "      <td>13119.000000</td>\n",
       "      <td>13119.000000</td>\n",
       "      <td>13119.000000</td>\n",
       "      <td>13119.000000</td>\n",
       "    </tr>\n",
       "    <tr>\n",
       "      <th>mean</th>\n",
       "      <td>2017.296288</td>\n",
       "      <td>24698.596920</td>\n",
       "      <td>21949.559037</td>\n",
       "      <td>129.972178</td>\n",
       "      <td>55.155843</td>\n",
       "      <td>2.071530</td>\n",
       "    </tr>\n",
       "    <tr>\n",
       "      <th>std</th>\n",
       "      <td>2.224709</td>\n",
       "      <td>11842.675542</td>\n",
       "      <td>21176.512267</td>\n",
       "      <td>65.260286</td>\n",
       "      <td>15.220082</td>\n",
       "      <td>0.572426</td>\n",
       "    </tr>\n",
       "    <tr>\n",
       "      <th>min</th>\n",
       "      <td>1970.000000</td>\n",
       "      <td>650.000000</td>\n",
       "      <td>1.000000</td>\n",
       "      <td>0.000000</td>\n",
       "      <td>1.100000</td>\n",
       "      <td>0.000000</td>\n",
       "    </tr>\n",
       "    <tr>\n",
       "      <th>25%</th>\n",
       "      <td>2016.000000</td>\n",
       "      <td>17450.000000</td>\n",
       "      <td>6097.500000</td>\n",
       "      <td>125.000000</td>\n",
       "      <td>45.600000</td>\n",
       "      <td>1.800000</td>\n",
       "    </tr>\n",
       "    <tr>\n",
       "      <th>50%</th>\n",
       "      <td>2018.000000</td>\n",
       "      <td>22480.000000</td>\n",
       "      <td>15189.000000</td>\n",
       "      <td>145.000000</td>\n",
       "      <td>56.500000</td>\n",
       "      <td>2.000000</td>\n",
       "    </tr>\n",
       "    <tr>\n",
       "      <th>75%</th>\n",
       "      <td>2019.000000</td>\n",
       "      <td>28980.000000</td>\n",
       "      <td>31779.500000</td>\n",
       "      <td>145.000000</td>\n",
       "      <td>64.200000</td>\n",
       "      <td>2.100000</td>\n",
       "    </tr>\n",
       "    <tr>\n",
       "      <th>max</th>\n",
       "      <td>2020.000000</td>\n",
       "      <td>159999.000000</td>\n",
       "      <td>259000.000000</td>\n",
       "      <td>580.000000</td>\n",
       "      <td>217.300000</td>\n",
       "      <td>6.200000</td>\n",
       "    </tr>\n",
       "  </tbody>\n",
       "</table>\n",
       "</div>"
      ],
      "text/plain": [
       "               year          price        mileage           tax           mpg  \\\n",
       "count  13119.000000   13119.000000   13119.000000  13119.000000  13119.000000   \n",
       "mean    2017.296288   24698.596920   21949.559037    129.972178     55.155843   \n",
       "std        2.224709   11842.675542   21176.512267     65.260286     15.220082   \n",
       "min     1970.000000     650.000000       1.000000      0.000000      1.100000   \n",
       "25%     2016.000000   17450.000000    6097.500000    125.000000     45.600000   \n",
       "50%     2018.000000   22480.000000   15189.000000    145.000000     56.500000   \n",
       "75%     2019.000000   28980.000000   31779.500000    145.000000     64.200000   \n",
       "max     2020.000000  159999.000000  259000.000000    580.000000    217.300000   \n",
       "\n",
       "         engineSize  \n",
       "count  13119.000000  \n",
       "mean       2.071530  \n",
       "std        0.572426  \n",
       "min        0.000000  \n",
       "25%        1.800000  \n",
       "50%        2.000000  \n",
       "75%        2.100000  \n",
       "max        6.200000  "
      ]
     },
     "execution_count": 4,
     "metadata": {},
     "output_type": "execute_result"
    }
   ],
   "source": [
    "df.describe()"
   ]
  },
  {
   "cell_type": "code",
   "execution_count": 5,
   "id": "a860605d",
   "metadata": {},
   "outputs": [
    {
     "name": "stdout",
     "output_type": "stream",
     "text": [
      "<class 'pandas.core.frame.DataFrame'>\n",
      "RangeIndex: 13119 entries, 0 to 13118\n",
      "Data columns (total 9 columns):\n",
      " #   Column        Non-Null Count  Dtype  \n",
      "---  ------        --------------  -----  \n",
      " 0   model         13119 non-null  object \n",
      " 1   year          13119 non-null  int64  \n",
      " 2   price         13119 non-null  int64  \n",
      " 3   transmission  13119 non-null  object \n",
      " 4   mileage       13119 non-null  int64  \n",
      " 5   fuelType      13119 non-null  object \n",
      " 6   tax           13119 non-null  int64  \n",
      " 7   mpg           13119 non-null  float64\n",
      " 8   engineSize    13119 non-null  float64\n",
      "dtypes: float64(2), int64(4), object(3)\n",
      "memory usage: 922.6+ KB\n"
     ]
    }
   ],
   "source": [
    "df.info()"
   ]
  },
  {
   "cell_type": "code",
   "execution_count": 6,
   "id": "8948d2cf",
   "metadata": {},
   "outputs": [],
   "source": [
    "from sklearn.preprocessing import LabelEncoder\n",
    "le=LabelEncoder()"
   ]
  },
  {
   "cell_type": "code",
   "execution_count": 7,
   "id": "fb99fc1b",
   "metadata": {},
   "outputs": [
    {
     "data": {
      "text/html": [
       "<div>\n",
       "<style scoped>\n",
       "    .dataframe tbody tr th:only-of-type {\n",
       "        vertical-align: middle;\n",
       "    }\n",
       "\n",
       "    .dataframe tbody tr th {\n",
       "        vertical-align: top;\n",
       "    }\n",
       "\n",
       "    .dataframe thead th {\n",
       "        text-align: right;\n",
       "    }\n",
       "</style>\n",
       "<table border=\"1\" class=\"dataframe\">\n",
       "  <thead>\n",
       "    <tr style=\"text-align: right;\">\n",
       "      <th></th>\n",
       "      <th>model</th>\n",
       "      <th>year</th>\n",
       "      <th>price</th>\n",
       "      <th>transmission</th>\n",
       "      <th>mileage</th>\n",
       "      <th>fuelType</th>\n",
       "      <th>tax</th>\n",
       "      <th>mpg</th>\n",
       "      <th>engineSize</th>\n",
       "      <th>model_le</th>\n",
       "      <th>transmission_le</th>\n",
       "      <th>fuelType_le</th>\n",
       "    </tr>\n",
       "  </thead>\n",
       "  <tbody>\n",
       "    <tr>\n",
       "      <th>0</th>\n",
       "      <td>SLK</td>\n",
       "      <td>2005</td>\n",
       "      <td>5200</td>\n",
       "      <td>Automatic</td>\n",
       "      <td>63000</td>\n",
       "      <td>Petrol</td>\n",
       "      <td>325</td>\n",
       "      <td>32.1</td>\n",
       "      <td>1.8</td>\n",
       "      <td>20</td>\n",
       "      <td>0</td>\n",
       "      <td>3</td>\n",
       "    </tr>\n",
       "    <tr>\n",
       "      <th>1</th>\n",
       "      <td>S Class</td>\n",
       "      <td>2017</td>\n",
       "      <td>34948</td>\n",
       "      <td>Automatic</td>\n",
       "      <td>27000</td>\n",
       "      <td>Hybrid</td>\n",
       "      <td>20</td>\n",
       "      <td>61.4</td>\n",
       "      <td>2.1</td>\n",
       "      <td>18</td>\n",
       "      <td>0</td>\n",
       "      <td>1</td>\n",
       "    </tr>\n",
       "    <tr>\n",
       "      <th>2</th>\n",
       "      <td>SL CLASS</td>\n",
       "      <td>2016</td>\n",
       "      <td>49948</td>\n",
       "      <td>Automatic</td>\n",
       "      <td>6200</td>\n",
       "      <td>Petrol</td>\n",
       "      <td>555</td>\n",
       "      <td>28.0</td>\n",
       "      <td>5.5</td>\n",
       "      <td>19</td>\n",
       "      <td>0</td>\n",
       "      <td>3</td>\n",
       "    </tr>\n",
       "    <tr>\n",
       "      <th>3</th>\n",
       "      <td>G Class</td>\n",
       "      <td>2016</td>\n",
       "      <td>61948</td>\n",
       "      <td>Automatic</td>\n",
       "      <td>16000</td>\n",
       "      <td>Petrol</td>\n",
       "      <td>325</td>\n",
       "      <td>30.4</td>\n",
       "      <td>4.0</td>\n",
       "      <td>9</td>\n",
       "      <td>0</td>\n",
       "      <td>3</td>\n",
       "    </tr>\n",
       "    <tr>\n",
       "      <th>4</th>\n",
       "      <td>G Class</td>\n",
       "      <td>2016</td>\n",
       "      <td>73948</td>\n",
       "      <td>Automatic</td>\n",
       "      <td>4000</td>\n",
       "      <td>Petrol</td>\n",
       "      <td>325</td>\n",
       "      <td>30.1</td>\n",
       "      <td>4.0</td>\n",
       "      <td>9</td>\n",
       "      <td>0</td>\n",
       "      <td>3</td>\n",
       "    </tr>\n",
       "  </tbody>\n",
       "</table>\n",
       "</div>"
      ],
      "text/plain": [
       "       model  year  price transmission  mileage fuelType  tax   mpg  \\\n",
       "0        SLK  2005   5200    Automatic    63000   Petrol  325  32.1   \n",
       "1    S Class  2017  34948    Automatic    27000   Hybrid   20  61.4   \n",
       "2   SL CLASS  2016  49948    Automatic     6200   Petrol  555  28.0   \n",
       "3    G Class  2016  61948    Automatic    16000   Petrol  325  30.4   \n",
       "4    G Class  2016  73948    Automatic     4000   Petrol  325  30.1   \n",
       "\n",
       "   engineSize  model_le  transmission_le  fuelType_le  \n",
       "0         1.8        20                0            3  \n",
       "1         2.1        18                0            1  \n",
       "2         5.5        19                0            3  \n",
       "3         4.0         9                0            3  \n",
       "4         4.0         9                0            3  "
      ]
     },
     "execution_count": 7,
     "metadata": {},
     "output_type": "execute_result"
    }
   ],
   "source": [
    "df['model_le']=le.fit_transform(df.model)\n",
    "df['transmission_le']=le.fit_transform(df.transmission)\n",
    "df['fuelType_le']=le.fit_transform(df.fuelType)\n",
    "df.head()"
   ]
  },
  {
   "cell_type": "code",
   "execution_count": 8,
   "id": "b00cfcc8",
   "metadata": {},
   "outputs": [
    {
     "data": {
      "text/html": [
       "<div>\n",
       "<style scoped>\n",
       "    .dataframe tbody tr th:only-of-type {\n",
       "        vertical-align: middle;\n",
       "    }\n",
       "\n",
       "    .dataframe tbody tr th {\n",
       "        vertical-align: top;\n",
       "    }\n",
       "\n",
       "    .dataframe thead th {\n",
       "        text-align: right;\n",
       "    }\n",
       "</style>\n",
       "<table border=\"1\" class=\"dataframe\">\n",
       "  <thead>\n",
       "    <tr style=\"text-align: right;\">\n",
       "      <th></th>\n",
       "      <th>year</th>\n",
       "      <th>price</th>\n",
       "      <th>mileage</th>\n",
       "      <th>tax</th>\n",
       "      <th>mpg</th>\n",
       "      <th>engineSize</th>\n",
       "      <th>model_le</th>\n",
       "      <th>transmission_le</th>\n",
       "      <th>fuelType_le</th>\n",
       "    </tr>\n",
       "  </thead>\n",
       "  <tbody>\n",
       "    <tr>\n",
       "      <th>0</th>\n",
       "      <td>2005</td>\n",
       "      <td>5200</td>\n",
       "      <td>63000</td>\n",
       "      <td>325</td>\n",
       "      <td>32.1</td>\n",
       "      <td>1.8</td>\n",
       "      <td>20</td>\n",
       "      <td>0</td>\n",
       "      <td>3</td>\n",
       "    </tr>\n",
       "    <tr>\n",
       "      <th>1</th>\n",
       "      <td>2017</td>\n",
       "      <td>34948</td>\n",
       "      <td>27000</td>\n",
       "      <td>20</td>\n",
       "      <td>61.4</td>\n",
       "      <td>2.1</td>\n",
       "      <td>18</td>\n",
       "      <td>0</td>\n",
       "      <td>1</td>\n",
       "    </tr>\n",
       "    <tr>\n",
       "      <th>2</th>\n",
       "      <td>2016</td>\n",
       "      <td>49948</td>\n",
       "      <td>6200</td>\n",
       "      <td>555</td>\n",
       "      <td>28.0</td>\n",
       "      <td>5.5</td>\n",
       "      <td>19</td>\n",
       "      <td>0</td>\n",
       "      <td>3</td>\n",
       "    </tr>\n",
       "    <tr>\n",
       "      <th>3</th>\n",
       "      <td>2016</td>\n",
       "      <td>61948</td>\n",
       "      <td>16000</td>\n",
       "      <td>325</td>\n",
       "      <td>30.4</td>\n",
       "      <td>4.0</td>\n",
       "      <td>9</td>\n",
       "      <td>0</td>\n",
       "      <td>3</td>\n",
       "    </tr>\n",
       "    <tr>\n",
       "      <th>4</th>\n",
       "      <td>2016</td>\n",
       "      <td>73948</td>\n",
       "      <td>4000</td>\n",
       "      <td>325</td>\n",
       "      <td>30.1</td>\n",
       "      <td>4.0</td>\n",
       "      <td>9</td>\n",
       "      <td>0</td>\n",
       "      <td>3</td>\n",
       "    </tr>\n",
       "  </tbody>\n",
       "</table>\n",
       "</div>"
      ],
      "text/plain": [
       "   year  price  mileage  tax   mpg  engineSize  model_le  transmission_le  \\\n",
       "0  2005   5200    63000  325  32.1         1.8        20                0   \n",
       "1  2017  34948    27000   20  61.4         2.1        18                0   \n",
       "2  2016  49948     6200  555  28.0         5.5        19                0   \n",
       "3  2016  61948    16000  325  30.4         4.0         9                0   \n",
       "4  2016  73948     4000  325  30.1         4.0         9                0   \n",
       "\n",
       "   fuelType_le  \n",
       "0            3  \n",
       "1            1  \n",
       "2            3  \n",
       "3            3  \n",
       "4            3  "
      ]
     },
     "execution_count": 8,
     "metadata": {},
     "output_type": "execute_result"
    }
   ],
   "source": [
    "df=df.drop(['model','transmission','fuelType'],axis=1)\n",
    "df.head()"
   ]
  },
  {
   "cell_type": "code",
   "execution_count": 9,
   "id": "9fafc1ca",
   "metadata": {},
   "outputs": [],
   "source": [
    "X=df.drop(['price'],axis=1)\n",
    "y=df['price']"
   ]
  },
  {
   "cell_type": "code",
   "execution_count": 10,
   "id": "3d8fc5dc",
   "metadata": {},
   "outputs": [],
   "source": [
    "from sklearn.model_selection import train_test_split\n",
    "X_train,X_test,y_train,y_test=train_test_split(X,y,test_size=0.3, random_state=0)"
   ]
  },
  {
   "cell_type": "code",
   "execution_count": 11,
   "id": "61bc0d12",
   "metadata": {},
   "outputs": [
    {
     "data": {
      "text/plain": [
       "LinearRegression()"
      ]
     },
     "execution_count": 11,
     "metadata": {},
     "output_type": "execute_result"
    }
   ],
   "source": [
    "from sklearn.linear_model import LinearRegression\n",
    "L_reg=LinearRegression()\n",
    "L_reg.fit(X_train,y_train)"
   ]
  },
  {
   "cell_type": "code",
   "execution_count": 12,
   "id": "e3c6bc67",
   "metadata": {},
   "outputs": [],
   "source": [
    "y_pred=L_reg.predict(X_test)"
   ]
  },
  {
   "cell_type": "code",
   "execution_count": 13,
   "id": "8d2b462e",
   "metadata": {},
   "outputs": [
    {
     "data": {
      "text/plain": [
       "0.6957804439930841"
      ]
     },
     "execution_count": 13,
     "metadata": {},
     "output_type": "execute_result"
    }
   ],
   "source": [
    "L_reg.score(X_train,y_train)"
   ]
  },
  {
   "cell_type": "code",
   "execution_count": null,
   "id": "399cf40e",
   "metadata": {},
   "outputs": [],
   "source": []
  },
  {
   "cell_type": "code",
   "execution_count": 14,
   "id": "e18c7d2a",
   "metadata": {},
   "outputs": [],
   "source": [
    "from sklearn.model_selection import cross_val_score"
   ]
  },
  {
   "cell_type": "code",
   "execution_count": 15,
   "id": "2fcd489c",
   "metadata": {},
   "outputs": [],
   "source": [
    "from sklearn.svm import SVC\n",
    "from sklearn.ensemble import RandomForestRegressor"
   ]
  },
  {
   "cell_type": "code",
   "execution_count": 16,
   "id": "e0b62ee7",
   "metadata": {},
   "outputs": [
    {
     "data": {
      "text/plain": [
       "array([0.92033325, 0.95424409, 0.91097013, 0.96121338, 0.74842856])"
      ]
     },
     "execution_count": 16,
     "metadata": {},
     "output_type": "execute_result"
    }
   ],
   "source": [
    "cross_val_score(RandomForestRegressor(),X,y)"
   ]
  },
  {
   "cell_type": "code",
   "execution_count": 17,
   "id": "a95c80ad",
   "metadata": {},
   "outputs": [],
   "source": [
    "rf=RandomForestRegressor()"
   ]
  },
  {
   "cell_type": "code",
   "execution_count": 18,
   "id": "5c392add",
   "metadata": {},
   "outputs": [
    {
     "data": {
      "text/plain": [
       "RandomForestRegressor()"
      ]
     },
     "execution_count": 18,
     "metadata": {},
     "output_type": "execute_result"
    }
   ],
   "source": [
    "rf.fit(X_train,y_train)"
   ]
  },
  {
   "cell_type": "code",
   "execution_count": 19,
   "id": "efa1e815",
   "metadata": {},
   "outputs": [
    {
     "data": {
      "text/plain": [
       "0.9552008930861693"
      ]
     },
     "execution_count": 19,
     "metadata": {},
     "output_type": "execute_result"
    }
   ],
   "source": [
    "rf.score(X_test,y_test)"
   ]
  },
  {
   "cell_type": "code",
   "execution_count": 20,
   "id": "6a28acc0",
   "metadata": {},
   "outputs": [],
   "source": [
    "model_param={'linear_reg':{'model':LinearRegression(),'params':{'fit_intercept' : [bool]}},\n",
    "            'RandomForestReg':{'model':RandomForestRegressor(),'params':{'criterion' : [\"squared_error\", \"absolute_error\", \"poisson\"],'max_features' : [\"auto\", \"sqrt\", \"log2\"]}}}"
   ]
  },
  {
   "cell_type": "code",
   "execution_count": 21,
   "id": "90d87f2f",
   "metadata": {},
   "outputs": [],
   "source": [
    "from sklearn.model_selection import GridSearchCV"
   ]
  },
  {
   "cell_type": "code",
   "execution_count": null,
   "id": "91308fdc",
   "metadata": {
    "scrolled": false
   },
   "outputs": [],
   "source": []
  },
  {
   "cell_type": "code",
   "execution_count": 22,
   "id": "651cdc11",
   "metadata": {},
   "outputs": [],
   "source": [
    "result=[]\n",
    "for model_name, i in model_param.items():\n",
    "    gs=GridSearchCV(i['model'],i['params'],cv=5,return_train_score=False)\n",
    "    gs.fit(X_test,y_test)\n",
    "    result.append({'model':model_name,'best score':gs.best_score_,'best parameter':gs.best_params_})  "
   ]
  },
  {
   "cell_type": "code",
   "execution_count": 23,
   "id": "7551af13",
   "metadata": {},
   "outputs": [
    {
     "data": {
      "text/plain": [
       "[{'model': 'linear_reg',\n",
       "  'best score': 0.7193443737298992,\n",
       "  'best parameter': {'fit_intercept': bool}},\n",
       " {'model': 'RandomForestReg',\n",
       "  'best score': 0.9246305482460491,\n",
       "  'best parameter': {'criterion': 'absolute_error', 'max_features': 'log2'}}]"
      ]
     },
     "execution_count": 23,
     "metadata": {},
     "output_type": "execute_result"
    }
   ],
   "source": [
    "result"
   ]
  },
  {
   "cell_type": "code",
   "execution_count": 24,
   "id": "7d3f4d51",
   "metadata": {},
   "outputs": [
    {
     "data": {
      "text/html": [
       "<div>\n",
       "<style scoped>\n",
       "    .dataframe tbody tr th:only-of-type {\n",
       "        vertical-align: middle;\n",
       "    }\n",
       "\n",
       "    .dataframe tbody tr th {\n",
       "        vertical-align: top;\n",
       "    }\n",
       "\n",
       "    .dataframe thead th {\n",
       "        text-align: right;\n",
       "    }\n",
       "</style>\n",
       "<table border=\"1\" class=\"dataframe\">\n",
       "  <thead>\n",
       "    <tr style=\"text-align: right;\">\n",
       "      <th></th>\n",
       "      <th>model</th>\n",
       "      <th>best score</th>\n",
       "      <th>best parameter</th>\n",
       "    </tr>\n",
       "  </thead>\n",
       "  <tbody>\n",
       "    <tr>\n",
       "      <th>0</th>\n",
       "      <td>linear_reg</td>\n",
       "      <td>0.719344</td>\n",
       "      <td>{'fit_intercept': &lt;class 'bool'&gt;}</td>\n",
       "    </tr>\n",
       "    <tr>\n",
       "      <th>1</th>\n",
       "      <td>RandomForestReg</td>\n",
       "      <td>0.924631</td>\n",
       "      <td>{'criterion': 'absolute_error', 'max_features'...</td>\n",
       "    </tr>\n",
       "  </tbody>\n",
       "</table>\n",
       "</div>"
      ],
      "text/plain": [
       "             model  best score  \\\n",
       "0       linear_reg    0.719344   \n",
       "1  RandomForestReg    0.924631   \n",
       "\n",
       "                                      best parameter  \n",
       "0                  {'fit_intercept': <class 'bool'>}  \n",
       "1  {'criterion': 'absolute_error', 'max_features'...  "
      ]
     },
     "execution_count": 24,
     "metadata": {},
     "output_type": "execute_result"
    }
   ],
   "source": [
    "dr=pd.DataFrame(result)\n",
    "dr"
   ]
  },
  {
   "cell_type": "code",
   "execution_count": null,
   "id": "37cd4e8b",
   "metadata": {},
   "outputs": [],
   "source": []
  }
 ],
 "metadata": {
  "kernelspec": {
   "display_name": "Python 3 (ipykernel)",
   "language": "python",
   "name": "python3"
  },
  "language_info": {
   "codemirror_mode": {
    "name": "ipython",
    "version": 3
   },
   "file_extension": ".py",
   "mimetype": "text/x-python",
   "name": "python",
   "nbconvert_exporter": "python",
   "pygments_lexer": "ipython3",
   "version": "3.9.13"
  }
 },
 "nbformat": 4,
 "nbformat_minor": 5
}
